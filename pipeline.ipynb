{
 "cells": [
  {
   "cell_type": "code",
   "execution_count": 1,
   "id": "222f035a",
   "metadata": {},
   "outputs": [
    {
     "name": "stdout",
     "output_type": "stream",
     "text": [
      "sagemaker.config INFO - Not applying SDK defaults from location: /etc/xdg/xdg-ubuntu/sagemaker/config.yaml\n",
      "sagemaker.config INFO - Not applying SDK defaults from location: /home/lromero/.config/sagemaker/config.yaml\n"
     ]
    }
   ],
   "source": [
    "#import os\n",
    "import json\n",
    "#import boto3\n",
    "import sagemaker\n",
    "\n",
    "from sagemaker.inputs import TrainingInput\n",
    "\n",
    "from sagemaker.processing import ProcessingInput, ProcessingOutput, ScriptProcessor\n",
    "\n",
    "from sagemaker.sklearn.processing import SKLearnProcessor\n",
    "from sagemaker.sklearn.estimator import SKLearn\n",
    "from sagemaker.sklearn.model import SKLearnModel\n",
    "\n",
    "from sagemaker.workflow.parameters import ParameterInteger, ParameterString\n",
    "from sagemaker.workflow.pipeline import Pipeline\n",
    "from sagemaker.workflow.properties import PropertyFile\n",
    "from sagemaker.workflow.steps import ProcessingStep, TrainingStep, CacheConfig\n",
    "from sagemaker.workflow.lambda_step import LambdaStep, Lambda\n",
    "\n",
    "#from sagemaker.workflow.step_collections import RegisterModel # Para registro y auditoría del modelo y luego despliegue fuera de un pipeline\n",
    "from sagemaker.workflow.model_step import ModelStep # Para registro y auditoría del modelo como step de pipeline y luego despliegue\n",
    "from sagemaker.workflow.conditions import ConditionGreaterThanOrEqualTo\n",
    "from sagemaker.workflow.condition_step import ConditionStep\n",
    "from sagemaker.workflow.functions import JsonGet\n",
    "from sagemaker.workflow.pipeline_context import PipelineSession\n",
    "\n",
    "import sys"
   ]
  },
  {
   "cell_type": "code",
   "execution_count": 2,
   "id": "9a6b670e",
   "metadata": {},
   "outputs": [
    {
     "name": "stderr",
     "output_type": "stream",
     "text": [
      "INFO:botocore.credentials:Found credentials in shared credentials file: ~/.aws/credentials\n",
      "INFO:botocore.credentials:Found credentials in shared credentials file: ~/.aws/credentials\n"
     ]
    }
   ],
   "source": [
    "default_bucket = \"pipeline-test-ml-sklearn-randomforest-artifacts\"\n",
    "\n",
    "sagemaker_session = sagemaker.Session(default_bucket=default_bucket)\n",
    "pipeline_session = PipelineSession(default_bucket=default_bucket)\n",
    "\n",
    "sm_client = sagemaker_session.sagemaker_client\n",
    "region = sagemaker_session.boto_region_name\n",
    "role = \"arn:aws:iam::007863746889:role/sagemakerS3\"\n",
    "\n",
    "account_id = sagemaker_session.account_id()"
   ]
  },
  {
   "cell_type": "code",
   "execution_count": 3,
   "id": "937137eb",
   "metadata": {},
   "outputs": [],
   "source": [
    "prefix_input_data = \"data/raw/\"\n",
    "base_job_prefix = \"randomForest-pipeline\"\n",
    "\n",
    "processing_instance_count = 1\n",
    "training_instance_count = 1\n",
    "\n",
    "processing_instance_type = \"ml.t3.large\"\n",
    "training_instance_type = \"ml.m5.large\"\n",
    "\n",
    "input_data = ParameterString(name=\"InputRawData\", default_value=f\"s3://{default_bucket}/{prefix_input_data}\")\n",
    "model_approval_status = ParameterString(name=\"ModelApprovalStatus\", default_value=\"PendingManualApproval\")\n",
    "\n",
    "# Cache Pipeline steps to reduce execution time on subsequent executions\n",
    "cache_config = CacheConfig(enable_caching=True, expire_after=\"10d\")"
   ]
  },
  {
   "cell_type": "markdown",
   "id": "65fdfaa5",
   "metadata": {},
   "source": [
    "# Preprocessing"
   ]
  },
  {
   "cell_type": "code",
   "execution_count": null,
   "id": "531e3089",
   "metadata": {},
   "outputs": [
    {
     "name": "stderr",
     "output_type": "stream",
     "text": [
      "INFO:sagemaker.image_uris:Defaulting to only available Python version: py3\n",
      "/home/lromero/mambaforge/envs/aws/lib/python3.12/site-packages/sagemaker/workflow/pipeline_context.py:332: UserWarning: Running within a PipelineSession, there will be No Wait, No Logs, and No Job being started.\n",
      "  warnings.warn(\n"
     ]
    }
   ],
   "source": [
    "# Process the training data step using a python script.\n",
    "# Split the training data set into train, test, and validation datasets\n",
    "\n",
    "sklearn_processor = SKLearnProcessor(\n",
    "    framework_version=\"1.2-1\",\n",
    "    instance_type=processing_instance_type,\n",
    "    instance_count=processing_instance_count,\n",
    "    base_job_name=f\"{base_job_prefix}/sklearn-LoanDefault-preprocess\",\n",
    "    sagemaker_session=pipeline_session,\n",
    "    role=role,\n",
    "    \n",
    ")\n",
    "\n",
    "processor_args = {\n",
    "    \"outputs\": [\n",
    "        ProcessingOutput(\n",
    "            output_name=\"train\",\n",
    "            source=\"/opt/ml/processing/train\",\n",
    "            destination=f\"s3://{default_bucket}/data/train/\"\n",
    "        ),\n",
    "        ProcessingOutput(\n",
    "            output_name=\"validation\",\n",
    "            source=\"/opt/ml/processing/validation\",\n",
    "            destination=f\"s3://{default_bucket}/data/validation/\"\n",
    "        ),\n",
    "        ProcessingOutput(\n",
    "            output_name=\"test\",\n",
    "            source=\"/opt/ml/processing/test\",\n",
    "            destination=f\"s3://{default_bucket}/data/test/\"\n",
    "        )\n",
    "    ],\n",
    "    \"inputs\": [\n",
    "        ProcessingInput(\n",
    "            source=input_data,\n",
    "            destination=\"/opt/ml/processing/input/input_data\",\n",
    "            input_name=\"input_data\",\n",
    "            s3_input_mode=\"File\"\n",
    "        )\n",
    "    ],\n",
    "    \"code\": \"code/preprocess.py\",\n",
    "    \"arguments\": [\"--input-data\", \"/opt/ml/processing/input/input_data\"]\n",
    "}\n",
    "processor_args = sklearn_processor.run(**processor_args)\n",
    "\n",
    "step_process = ProcessingStep(\n",
    "    name=\"PreprocessAbaloneData\",\n",
    "    step_args=processor_args,\n",
    "    cache_config=cache_config\n",
    ")"
   ]
  },
  {
   "cell_type": "markdown",
   "id": "70155a01",
   "metadata": {},
   "source": [
    "# Training"
   ]
  },
  {
   "cell_type": "code",
   "execution_count": null,
   "id": "ca3ec07e",
   "metadata": {},
   "outputs": [
    {
     "name": "stderr",
     "output_type": "stream",
     "text": [
      "INFO:botocore.credentials:Found credentials in shared credentials file: ~/.aws/credentials\n",
      "INFO:sagemaker.telemetry.telemetry_logging:SageMaker Python SDK will collect telemetry to help us better understand our user's needs, diagnose issues, and deliver additional features.\n",
      "To opt out of telemetry, please disable via TelemetryOptOut parameter in SDK defaults config. For more information, refer to https://sagemaker.readthedocs.io/en/stable/overview.html#configuring-and-using-defaults-with-the-sagemaker-python-sdk.\n"
     ]
    }
   ],
   "source": [
    "min_samples_split = ParameterInteger(name=\"MinSamplesSplit\", default_value=10)\n",
    "class_weight = ParameterString(name=\"ClassWeight\", default_value=\"{0:1, 1:25}\")\n",
    "max_depth = ParameterInteger(name=\"MaxDepth\", default_value=5)\n",
    "n_estimator = ParameterInteger(name=\"NEstimators\", default_value=100)\n",
    "\n",
    "sklearn_train_estimator = SKLearn(\n",
    "    entry_point=\"code/train.py\",\n",
    "    framework_version=\"1.2-1\",\n",
    "    instance_type=training_instance_type,\n",
    "    instance_count=training_instance_count,\n",
    "    output_path=f\"s3://{default_bucket}/model_artifacts\",\n",
    "    script_mode=True,\n",
    "    role=role,\n",
    "    py_version=\"py3\",\n",
    "    base_job_name=f\"{base_job_prefix}/sklearn-LoanDefault-training\",\n",
    "    sagemaker_session=pipeline_session,\n",
    "    hyperparameters={\n",
    "        \"n-estimators\": n_estimator,\n",
    "        \"max-depth\": max_depth,\n",
    "        \"class-weight\": class_weight,\n",
    "        \"min-samples-split\": min_samples_split\n",
    "    }\n",
    ")\n",
    "\n",
    "train_args = {\n",
    "    \"inputs\": {\n",
    "        \"train\": TrainingInput(\n",
    "            s3_data=step_process.properties.ProcessingOutputConfig.Outputs[\"train\"].S3Output.S3Uri,\n",
    "            content_type= \"text/csv\"\n",
    "        ),\n",
    "        \"validation\": TrainingInput(\n",
    "            s3_data=step_process.properties.ProcessingOutputConfig.Outputs[\"validation\"].S3Output.S3Uri,\n",
    "            content_type=\"text/csv\"\n",
    "        )\n",
    "    }\n",
    "}\n",
    "train_args = sklearn_train_estimator.fit(**train_args)\n",
    "\n",
    "step_train = TrainingStep(\n",
    "    name=\"TrainSklearnLoanDefaultModel\",\n",
    "    step_args=train_args,\n",
    "    cache_config=cache_config\n",
    ")"
   ]
  },
  {
   "cell_type": "markdown",
   "id": "58c36891",
   "metadata": {},
   "source": [
    "# Evaluation"
   ]
  },
  {
   "cell_type": "code",
   "execution_count": 6,
   "id": "861fd309",
   "metadata": {},
   "outputs": [],
   "source": [
    "evaluation_processor = ScriptProcessor(\n",
    "    role=role,\n",
    "    image_uri=sklearn_train_estimator.image_uri,\n",
    "    instance_count=training_instance_count,\n",
    "    instance_type=processing_instance_type,\n",
    "    base_job_name=\"evaluationAbaloneModel\",\n",
    "    sagemaker_session=pipeline_session,\n",
    "    command=[\"python3\"]\n",
    ")\n",
    "\n",
    "evaluation_args = {\n",
    "    \"inputs\":[\n",
    "        ProcessingInput(\n",
    "            input_name=\"Model\",\n",
    "            source=step_train.properties.ModelArtifacts.S3ModelArtifacts,\n",
    "            destination=\"/opt/ml/processing/model\"\n",
    "        ),\n",
    "        ProcessingInput(\n",
    "            input_name=\"train_data\",\n",
    "            source=step_process.properties.ProcessingOutputConfig.Outputs[\"test\"].S3Output.S3Uri,\n",
    "            destination=\"/opt/ml/processing/data/test\"\n",
    "        )\n",
    "    ],\n",
    "    \"outputs\":[\n",
    "        ProcessingOutput(\n",
    "            output_name=\"evaluation\",\n",
    "            source=\"/opt/ml/processing/evaluation\",\n",
    "            destination=f\"s3://{default_bucket}/code/evaluation_report\"\n",
    "        )\n",
    "    ],\n",
    "    \"code\":\"code/evaluation.py\",\n",
    "}\n",
    "evaluation_report = PropertyFile(\n",
    "    name=\"AbaloneEvaluationReport\",\n",
    "    output_name=\"evaluation\",\n",
    "    path=\"evaluation.json\",\n",
    ")\n",
    "\n",
    "evaluation_args = evaluation_processor.run(**evaluation_args)\n",
    "\n",
    "step_evaluation = ProcessingStep(\n",
    "    name=\"EvaluateSKlearnAbaloneModel\",\n",
    "    step_args=evaluation_args,\n",
    "    cache_config=cache_config,\n",
    "    property_files=[evaluation_report]\n",
    ")"
   ]
  },
  {
   "cell_type": "markdown",
   "id": "c2b3f44f",
   "metadata": {},
   "source": [
    "# Model and conditional step"
   ]
  },
  {
   "cell_type": "code",
   "execution_count": 7,
   "id": "91927989",
   "metadata": {},
   "outputs": [],
   "source": [
    "sklearn_model = SKLearnModel(\n",
    "    entry_point=\"code/inference.py\",\n",
    "    model_data=step_train.properties.ModelArtifacts.S3ModelArtifacts,\n",
    "    image_uri=sklearn_train_estimator.image_uri,\n",
    "    sagemaker_session=pipeline_session\n",
    ")\n",
    "\n",
    "sklearn_model_args = dict(\n",
    "    content_types=[\"text/csv\"],\n",
    "    response_types=[\"text/csv\"],\n",
    "    model_package_group_name=\"YourSKLearnModelGroup\",\n",
    "    approval_status=\"Approved\"\n",
    ")\n",
    "\n",
    "sklearn_model_step_auto = ModelStep(\n",
    "    name=\"AbaloneApprovedModel\",\n",
    "    step_args=sklearn_model.register(**sklearn_model_args)\n",
    ")\n",
    "\n",
    "sklearn_model_args[\"approval_status\"] = \"Rejected\"\n",
    "sklearn_model_step_rejected = sklearn_model_args = ModelStep(\n",
    "    name=\"AbaloneRejectedModel\",\n",
    "    step_args=sklearn_model.register(**sklearn_model_args)\n",
    ")"
   ]
  },
  {
   "cell_type": "code",
   "execution_count": 8,
   "id": "b0b423e7",
   "metadata": {},
   "outputs": [],
   "source": [
    "f1_score = JsonGet(\n",
    "    step_name=step_evaluation.name,\n",
    "    property_file=evaluation_report,\n",
    "    json_path=\"classification_metrics.f1.value\"\n",
    ")\n",
    "\n",
    "# Automatic lambda deplyment (severless)\n",
    "lambda_deploy = LambdaStep(\n",
    "    name=\"DeployModelWithLambda\",\n",
    "    lambda_func=Lambda(\n",
    "        function_arn=\"arn:aws:lambda:us-east-1:007863746889:function:SeverlessDeploySagemakerPIpeline\",\n",
    "        session=pipeline_session,\n",
    "    ),\n",
    "    inputs={\n",
    "        \"model_package_arn\": sklearn_model_step_auto.properties.ModelPackageArn\n",
    "    }\n",
    ")\n",
    "\n",
    "condition_step = ConditionStep(\n",
    "    name=\"CheckF1Score\",\n",
    "    conditions=[\n",
    "        ConditionGreaterThanOrEqualTo(\n",
    "            left=f1_score,\n",
    "            right=0.8\n",
    "        )\n",
    "    ],\n",
    "    if_steps=[sklearn_model_step_auto, lambda_deploy],\n",
    "    else_steps=[sklearn_model_step_rejected]\n",
    ")"
   ]
  },
  {
   "cell_type": "markdown",
   "id": "7dc87222",
   "metadata": {},
   "source": [
    "# Pipeline Definition"
   ]
  },
  {
   "cell_type": "code",
   "execution_count": 5,
   "id": "ecbd774e",
   "metadata": {},
   "outputs": [
    {
     "name": "stderr",
     "output_type": "stream",
     "text": [
      "WARNING:sagemaker.workflow.utilities:Popping out 'ProcessingJobName' from the pipeline definition by default since it will be overridden at pipeline execution time. Please utilize the PipelineDefinitionConfig to persist this field in the pipeline definition if desired.\n"
     ]
    },
    {
     "data": {
      "text/plain": [
       "{'Version': '2020-12-01',\n",
       " 'Metadata': {},\n",
       " 'Parameters': [{'Name': 'InputRawData',\n",
       "   'Type': 'String',\n",
       "   'DefaultValue': 's3://pipeline-test-ml-sklearn-randomforest-artifacts/data/raw/'}],\n",
       " 'PipelineExperimentConfig': {'ExperimentName': {'Get': 'Execution.PipelineName'},\n",
       "  'TrialName': {'Get': 'Execution.PipelineExecutionId'}},\n",
       " 'Steps': [{'Name': 'PreprocessAbaloneData',\n",
       "   'Type': 'Processing',\n",
       "   'Arguments': {'ProcessingResources': {'ClusterConfig': {'InstanceType': 'ml.t3.large',\n",
       "      'InstanceCount': 1,\n",
       "      'VolumeSizeInGB': 30}},\n",
       "    'AppSpecification': {'ImageUri': '683313688378.dkr.ecr.us-east-1.amazonaws.com/sagemaker-scikit-learn:1.2-1-cpu-py3',\n",
       "     'ContainerArguments': ['--input-data',\n",
       "      '/opt/ml/processing/input/input_data'],\n",
       "     'ContainerEntrypoint': ['python3',\n",
       "      '/opt/ml/processing/input/code/preprocess.py']},\n",
       "    'RoleArn': 'arn:aws:iam::007863746889:role/sagemakerS3',\n",
       "    'ProcessingInputs': [{'InputName': 'input_data',\n",
       "      'AppManaged': False,\n",
       "      'S3Input': {'S3Uri': {'Get': 'Parameters.InputRawData'},\n",
       "       'LocalPath': '/opt/ml/processing/input/input_data',\n",
       "       'S3DataType': 'S3Prefix',\n",
       "       'S3InputMode': 'File',\n",
       "       'S3DataDistributionType': 'FullyReplicated',\n",
       "       'S3CompressionType': 'None'}},\n",
       "     {'InputName': 'code',\n",
       "      'AppManaged': False,\n",
       "      'S3Input': {'S3Uri': 's3://pipeline-test-ml-sklearn-randomforest-artifacts/PipelineSkLernLoanDefault/code/ab8b674361ea58f73b8ca5d1856f5af67b1c7c71973ec67f2af7214f61bb0a43/preprocess.py',\n",
       "       'LocalPath': '/opt/ml/processing/input/code',\n",
       "       'S3DataType': 'S3Prefix',\n",
       "       'S3InputMode': 'File',\n",
       "       'S3DataDistributionType': 'FullyReplicated',\n",
       "       'S3CompressionType': 'None'}}],\n",
       "    'ProcessingOutputConfig': {'Outputs': [{'OutputName': 'train',\n",
       "       'AppManaged': False,\n",
       "       'S3Output': {'S3Uri': 's3://pipeline-test-ml-sklearn-randomforest-artifacts/data/train/',\n",
       "        'LocalPath': '/opt/ml/processing/train',\n",
       "        'S3UploadMode': 'EndOfJob'}},\n",
       "      {'OutputName': 'validation',\n",
       "       'AppManaged': False,\n",
       "       'S3Output': {'S3Uri': 's3://pipeline-test-ml-sklearn-randomforest-artifacts/data/validation/',\n",
       "        'LocalPath': '/opt/ml/processing/validation',\n",
       "        'S3UploadMode': 'EndOfJob'}},\n",
       "      {'OutputName': 'test',\n",
       "       'AppManaged': False,\n",
       "       'S3Output': {'S3Uri': 's3://pipeline-test-ml-sklearn-randomforest-artifacts/data/test/',\n",
       "        'LocalPath': '/opt/ml/processing/test',\n",
       "        'S3UploadMode': 'EndOfJob'}}]}},\n",
       "   'CacheConfig': {'Enabled': True, 'ExpireAfter': '10d'}}]}"
      ]
     },
     "execution_count": 5,
     "metadata": {},
     "output_type": "execute_result"
    }
   ],
   "source": [
    "pipeline_instance = Pipeline(\n",
    "    name=\"PipelineSkLernLoanDefault\",\n",
    "    parameters=[input_data],# n_estimators, max_depth],\n",
    "    steps=[step_process],# step_train, step_evaluation, condition_step],\n",
    "    sagemaker_session=pipeline_session\n",
    ")\n",
    "\n",
    "pipeline_definition = json.loads(pipeline_instance.definition())\n",
    "pipeline_definition"
   ]
  },
  {
   "cell_type": "code",
   "execution_count": 6,
   "id": "373cac4f",
   "metadata": {},
   "outputs": [
    {
     "name": "stderr",
     "output_type": "stream",
     "text": [
      "WARNING:sagemaker.workflow.utilities:Popping out 'ProcessingJobName' from the pipeline definition by default since it will be overridden at pipeline execution time. Please utilize the PipelineDefinitionConfig to persist this field in the pipeline definition if desired.\n",
      "WARNING:sagemaker.workflow.utilities:Popping out 'ProcessingJobName' from the pipeline definition by default since it will be overridden at pipeline execution time. Please utilize the PipelineDefinitionConfig to persist this field in the pipeline definition if desired.\n"
     ]
    },
    {
     "data": {
      "text/plain": [
       "{'PipelineArn': 'arn:aws:sagemaker:us-east-1:007863746889:pipeline/PipelineSkLernLoanDefault',\n",
       " 'ResponseMetadata': {'RequestId': '7a350a8d-16ce-4eed-a49b-e0127be7bc6d',\n",
       "  'HTTPStatusCode': 200,\n",
       "  'HTTPHeaders': {'x-amzn-requestid': '7a350a8d-16ce-4eed-a49b-e0127be7bc6d',\n",
       "   'content-type': 'application/x-amz-json-1.1',\n",
       "   'content-length': '115',\n",
       "   'date': 'Fri, 25 Jul 2025 05:48:09 GMT'},\n",
       "  'RetryAttempts': 0}}"
      ]
     },
     "execution_count": 6,
     "metadata": {},
     "output_type": "execute_result"
    }
   ],
   "source": [
    "pipeline_instance.upsert(role_arn=role)"
   ]
  },
  {
   "cell_type": "code",
   "execution_count": 7,
   "id": "c10007f2",
   "metadata": {},
   "outputs": [],
   "source": [
    "execution = pipeline_instance.start()\n",
    "execution.wait()"
   ]
  },
  {
   "cell_type": "code",
   "execution_count": null,
   "id": "eebbc5f1",
   "metadata": {},
   "outputs": [],
   "source": []
  }
 ],
 "metadata": {
  "kernelspec": {
   "display_name": "aws",
   "language": "python",
   "name": "python3"
  },
  "language_info": {
   "codemirror_mode": {
    "name": "ipython",
    "version": 3
   },
   "file_extension": ".py",
   "mimetype": "text/x-python",
   "name": "python",
   "nbconvert_exporter": "python",
   "pygments_lexer": "ipython3",
   "version": "3.12.11"
  }
 },
 "nbformat": 4,
 "nbformat_minor": 5
}
